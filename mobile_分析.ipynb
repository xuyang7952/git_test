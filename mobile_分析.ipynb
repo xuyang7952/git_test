{
 "cells": [
  {
   "cell_type": "code",
   "execution_count": 29,
   "metadata": {},
   "outputs": [],
   "source": [
    "import pandas as pd\n",
    "import numpy as np\n",
    "import matplotlib.pyplot as pt"
   ]
  },
  {
   "cell_type": "code",
   "execution_count": 30,
   "metadata": {},
   "outputs": [
    {
     "data": {
      "text/html": [
       "<div>\n",
       "<style scoped>\n",
       "    .dataframe tbody tr th:only-of-type {\n",
       "        vertical-align: middle;\n",
       "    }\n",
       "\n",
       "    .dataframe tbody tr th {\n",
       "        vertical-align: top;\n",
       "    }\n",
       "\n",
       "    .dataframe thead th {\n",
       "        text-align: right;\n",
       "    }\n",
       "</style>\n",
       "<table border=\"1\" class=\"dataframe\">\n",
       "  <thead>\n",
       "    <tr style=\"text-align: right;\">\n",
       "      <th></th>\n",
       "      <th>EventDate</th>\n",
       "      <th>alias_name</th>\n",
       "      <th>price</th>\n",
       "      <th>commented</th>\n",
       "      <th>market_time</th>\n",
       "      <th>screen_size</th>\n",
       "      <th>ram_size</th>\n",
       "      <th>rom_size</th>\n",
       "      <th>battery_capacity</th>\n",
       "      <th>cost_efficient</th>\n",
       "      <th>performance</th>\n",
       "      <th>endurance</th>\n",
       "      <th>appearance</th>\n",
       "      <th>camera_performance</th>\n",
       "    </tr>\n",
       "  </thead>\n",
       "  <tbody>\n",
       "    <tr>\n",
       "      <th>0</th>\n",
       "      <td>2020-11-27</td>\n",
       "      <td>iPhone X2 Plus</td>\n",
       "      <td>0</td>\n",
       "      <td>4</td>\n",
       "      <td>2018年09月13日</td>\n",
       "      <td>NaN</td>\n",
       "      <td>NaN</td>\n",
       "      <td>NaN</td>\n",
       "      <td>NaN</td>\n",
       "      <td>0</td>\n",
       "      <td>0</td>\n",
       "      <td>0</td>\n",
       "      <td>0</td>\n",
       "      <td>0</td>\n",
       "    </tr>\n",
       "    <tr>\n",
       "      <th>1</th>\n",
       "      <td>2020-11-28</td>\n",
       "      <td>10 Pro</td>\n",
       "      <td>4999</td>\n",
       "      <td>28</td>\n",
       "      <td>2020年2月18日</td>\n",
       "      <td>6.67</td>\n",
       "      <td>8GB</td>\n",
       "      <td>256GB</td>\n",
       "      <td>4500mAh</td>\n",
       "      <td>8</td>\n",
       "      <td>9</td>\n",
       "      <td>8</td>\n",
       "      <td>7</td>\n",
       "      <td>8</td>\n",
       "    </tr>\n",
       "    <tr>\n",
       "      <th>2</th>\n",
       "      <td>2020-11-28</td>\n",
       "      <td>11 pro max</td>\n",
       "      <td>9599</td>\n",
       "      <td>52</td>\n",
       "      <td>2019年09月</td>\n",
       "      <td>6.50</td>\n",
       "      <td>4GB</td>\n",
       "      <td>64GB</td>\n",
       "      <td>3969mAh大电池手机</td>\n",
       "      <td>5</td>\n",
       "      <td>10</td>\n",
       "      <td>6</td>\n",
       "      <td>6</td>\n",
       "      <td>7</td>\n",
       "    </tr>\n",
       "    <tr>\n",
       "      <th>3</th>\n",
       "      <td>2020-11-28</td>\n",
       "      <td>1107</td>\n",
       "      <td>380</td>\n",
       "      <td>1</td>\n",
       "      <td>2010年</td>\n",
       "      <td>1.52</td>\n",
       "      <td>NaN</td>\n",
       "      <td>NaN</td>\n",
       "      <td>800mAh</td>\n",
       "      <td>0</td>\n",
       "      <td>0</td>\n",
       "      <td>0</td>\n",
       "      <td>0</td>\n",
       "      <td>0</td>\n",
       "    </tr>\n",
       "    <tr>\n",
       "      <th>4</th>\n",
       "      <td>2020-11-28</td>\n",
       "      <td>11Pro</td>\n",
       "      <td>0</td>\n",
       "      <td>0</td>\n",
       "      <td>NaN</td>\n",
       "      <td>6.67</td>\n",
       "      <td>NaN</td>\n",
       "      <td>NaN</td>\n",
       "      <td>4500mAh</td>\n",
       "      <td>0</td>\n",
       "      <td>0</td>\n",
       "      <td>0</td>\n",
       "      <td>0</td>\n",
       "      <td>0</td>\n",
       "    </tr>\n",
       "  </tbody>\n",
       "</table>\n",
       "</div>"
      ],
      "text/plain": [
       "    EventDate       alias_name  price  commented  market_time  screen_size  \\\n",
       "0  2020-11-27   iPhone X2 Plus      0          4  2018年09月13日          NaN   \n",
       "1  2020-11-28           10 Pro   4999         28   2020年2月18日         6.67   \n",
       "2  2020-11-28       11 pro max   9599         52     2019年09月         6.50   \n",
       "3  2020-11-28             1107    380          1        2010年         1.52   \n",
       "4  2020-11-28            11Pro      0          0          NaN         6.67   \n",
       "\n",
       "  ram_size rom_size battery_capacity  cost_efficient  performance  endurance  \\\n",
       "0      NaN      NaN              NaN               0            0          0   \n",
       "1      8GB    256GB          4500mAh               8            9          8   \n",
       "2      4GB     64GB     3969mAh大电池手机               5           10          6   \n",
       "3      NaN      NaN           800mAh               0            0          0   \n",
       "4      NaN      NaN          4500mAh               0            0          0   \n",
       "\n",
       "   appearance  camera_performance  \n",
       "0           0                   0  \n",
       "1           7                   8  \n",
       "2           6                   7  \n",
       "3           0                   0  \n",
       "4           0                   0  "
      ]
     },
     "execution_count": 30,
     "metadata": {},
     "output_type": "execute_result"
    }
   ],
   "source": [
    "mobile = pd.read_csv('./mobile_202011301042.csv')\n",
    "mobile.head()"
   ]
  },
  {
   "cell_type": "code",
   "execution_count": 31,
   "metadata": {},
   "outputs": [
    {
     "data": {
      "text/html": [
       "<div>\n",
       "<style scoped>\n",
       "    .dataframe tbody tr th:only-of-type {\n",
       "        vertical-align: middle;\n",
       "    }\n",
       "\n",
       "    .dataframe tbody tr th {\n",
       "        vertical-align: top;\n",
       "    }\n",
       "\n",
       "    .dataframe thead th {\n",
       "        text-align: right;\n",
       "    }\n",
       "</style>\n",
       "<table border=\"1\" class=\"dataframe\">\n",
       "  <thead>\n",
       "    <tr style=\"text-align: right;\">\n",
       "      <th></th>\n",
       "      <th>price</th>\n",
       "      <th>commented</th>\n",
       "      <th>screen_size</th>\n",
       "      <th>cost_efficient</th>\n",
       "      <th>performance</th>\n",
       "      <th>endurance</th>\n",
       "      <th>appearance</th>\n",
       "      <th>camera_performance</th>\n",
       "    </tr>\n",
       "  </thead>\n",
       "  <tbody>\n",
       "    <tr>\n",
       "      <th>count</th>\n",
       "      <td>5581.000000</td>\n",
       "      <td>5581.000000</td>\n",
       "      <td>5306.000000</td>\n",
       "      <td>5581.000000</td>\n",
       "      <td>5581.000000</td>\n",
       "      <td>5581.000000</td>\n",
       "      <td>5581.000000</td>\n",
       "      <td>5581.000000</td>\n",
       "    </tr>\n",
       "    <tr>\n",
       "      <th>mean</th>\n",
       "      <td>2106.087260</td>\n",
       "      <td>117.588246</td>\n",
       "      <td>5.770101</td>\n",
       "      <td>4.987278</td>\n",
       "      <td>4.896614</td>\n",
       "      <td>5.035478</td>\n",
       "      <td>5.302634</td>\n",
       "      <td>5.090127</td>\n",
       "    </tr>\n",
       "    <tr>\n",
       "      <th>std</th>\n",
       "      <td>3202.877446</td>\n",
       "      <td>290.600784</td>\n",
       "      <td>1.024100</td>\n",
       "      <td>3.449173</td>\n",
       "      <td>3.609410</td>\n",
       "      <td>3.474922</td>\n",
       "      <td>3.554588</td>\n",
       "      <td>3.514376</td>\n",
       "    </tr>\n",
       "    <tr>\n",
       "      <th>min</th>\n",
       "      <td>0.000000</td>\n",
       "      <td>0.000000</td>\n",
       "      <td>1.200000</td>\n",
       "      <td>0.000000</td>\n",
       "      <td>0.000000</td>\n",
       "      <td>0.000000</td>\n",
       "      <td>0.000000</td>\n",
       "      <td>0.000000</td>\n",
       "    </tr>\n",
       "    <tr>\n",
       "      <th>25%</th>\n",
       "      <td>458.000000</td>\n",
       "      <td>1.000000</td>\n",
       "      <td>5.500000</td>\n",
       "      <td>0.000000</td>\n",
       "      <td>0.000000</td>\n",
       "      <td>0.000000</td>\n",
       "      <td>0.000000</td>\n",
       "      <td>0.000000</td>\n",
       "    </tr>\n",
       "    <tr>\n",
       "      <th>50%</th>\n",
       "      <td>1200.000000</td>\n",
       "      <td>18.000000</td>\n",
       "      <td>6.000000</td>\n",
       "      <td>6.000000</td>\n",
       "      <td>6.000000</td>\n",
       "      <td>6.000000</td>\n",
       "      <td>7.000000</td>\n",
       "      <td>6.000000</td>\n",
       "    </tr>\n",
       "    <tr>\n",
       "      <th>75%</th>\n",
       "      <td>2599.000000</td>\n",
       "      <td>93.000000</td>\n",
       "      <td>6.500000</td>\n",
       "      <td>8.000000</td>\n",
       "      <td>8.000000</td>\n",
       "      <td>8.000000</td>\n",
       "      <td>8.000000</td>\n",
       "      <td>8.000000</td>\n",
       "    </tr>\n",
       "    <tr>\n",
       "      <th>max</th>\n",
       "      <td>69000.000000</td>\n",
       "      <td>3073.000000</td>\n",
       "      <td>8.000000</td>\n",
       "      <td>10.000000</td>\n",
       "      <td>10.000000</td>\n",
       "      <td>10.000000</td>\n",
       "      <td>10.000000</td>\n",
       "      <td>10.000000</td>\n",
       "    </tr>\n",
       "  </tbody>\n",
       "</table>\n",
       "</div>"
      ],
      "text/plain": [
       "              price    commented  screen_size  cost_efficient  performance  \\\n",
       "count   5581.000000  5581.000000  5306.000000     5581.000000  5581.000000   \n",
       "mean    2106.087260   117.588246     5.770101        4.987278     4.896614   \n",
       "std     3202.877446   290.600784     1.024100        3.449173     3.609410   \n",
       "min        0.000000     0.000000     1.200000        0.000000     0.000000   \n",
       "25%      458.000000     1.000000     5.500000        0.000000     0.000000   \n",
       "50%     1200.000000    18.000000     6.000000        6.000000     6.000000   \n",
       "75%     2599.000000    93.000000     6.500000        8.000000     8.000000   \n",
       "max    69000.000000  3073.000000     8.000000       10.000000    10.000000   \n",
       "\n",
       "         endurance   appearance  camera_performance  \n",
       "count  5581.000000  5581.000000         5581.000000  \n",
       "mean      5.035478     5.302634            5.090127  \n",
       "std       3.474922     3.554588            3.514376  \n",
       "min       0.000000     0.000000            0.000000  \n",
       "25%       0.000000     0.000000            0.000000  \n",
       "50%       6.000000     7.000000            6.000000  \n",
       "75%       8.000000     8.000000            8.000000  \n",
       "max      10.000000    10.000000           10.000000  "
      ]
     },
     "execution_count": 31,
     "metadata": {},
     "output_type": "execute_result"
    }
   ],
   "source": [
    "mobile.describe()"
   ]
  },
  {
   "cell_type": "code",
   "execution_count": 32,
   "metadata": {},
   "outputs": [
    {
     "data": {
      "text/plain": [
       "count     4552.000000\n",
       "mean      2582.177724\n",
       "std       3368.720213\n",
       "min         55.000000\n",
       "25%        888.000000\n",
       "50%       1599.000000\n",
       "75%       2999.000000\n",
       "max      69000.000000\n",
       "Name: price, dtype: float64"
      ]
     },
     "execution_count": 32,
     "metadata": {},
     "output_type": "execute_result"
    }
   ],
   "source": [
    "mobile[mobile['price']>0]['price'].describe()"
   ]
  },
  {
   "cell_type": "code",
   "execution_count": 33,
   "metadata": {},
   "outputs": [
    {
     "data": {
      "text/plain": [
       "count    4281.000000\n",
       "mean      153.295959\n",
       "std       323.456380\n",
       "min         1.000000\n",
       "25%        10.000000\n",
       "50%        25.000000\n",
       "75%       158.000000\n",
       "max      3073.000000\n",
       "Name: commented, dtype: float64"
      ]
     },
     "execution_count": 33,
     "metadata": {},
     "output_type": "execute_result"
    }
   ],
   "source": [
    "mobile[mobile['commented']>0]['commented'].describe()"
   ]
  },
  {
   "cell_type": "code",
   "execution_count": 34,
   "metadata": {},
   "outputs": [
    {
     "data": {
      "text/plain": [
       "count    5306.000000\n",
       "mean        5.770101\n",
       "std         1.024100\n",
       "min         1.200000\n",
       "25%         5.500000\n",
       "50%         6.000000\n",
       "75%         6.500000\n",
       "max         8.000000\n",
       "Name: screen_size, dtype: float64"
      ]
     },
     "execution_count": 34,
     "metadata": {},
     "output_type": "execute_result"
    }
   ],
   "source": [
    "mobile[mobile['screen_size']>0]['screen_size'].describe()"
   ]
  },
  {
   "cell_type": "code",
   "execution_count": 35,
   "metadata": {},
   "outputs": [
    {
     "data": {
      "text/plain": [
       "count    4000.000000\n",
       "mean        6.958500\n",
       "std         1.697056\n",
       "min         1.000000\n",
       "25%         6.000000\n",
       "50%         7.000000\n",
       "75%         8.000000\n",
       "max        10.000000\n",
       "Name: cost_efficient, dtype: float64"
      ]
     },
     "execution_count": 35,
     "metadata": {},
     "output_type": "execute_result"
    }
   ],
   "source": [
    "mobile[mobile['cost_efficient']>0]['cost_efficient'].describe()"
   ]
  },
  {
   "cell_type": "code",
   "execution_count": 36,
   "metadata": {},
   "outputs": [
    {
     "data": {
      "text/plain": [
       "count    4002.000000\n",
       "mean        6.828586\n",
       "std         2.230103\n",
       "min         1.000000\n",
       "25%         5.000000\n",
       "50%         7.000000\n",
       "75%         9.000000\n",
       "max        10.000000\n",
       "Name: performance, dtype: float64"
      ]
     },
     "execution_count": 36,
     "metadata": {},
     "output_type": "execute_result"
    }
   ],
   "source": [
    "mobile[mobile['performance']>0]['performance'].describe()"
   ]
  },
  {
   "cell_type": "code",
   "execution_count": 37,
   "metadata": {},
   "outputs": [
    {
     "data": {
      "text/plain": [
       "count    3999.000000\n",
       "mean        7.027507\n",
       "std         1.688392\n",
       "min         1.000000\n",
       "25%         6.000000\n",
       "50%         7.000000\n",
       "75%         8.000000\n",
       "max        10.000000\n",
       "Name: endurance, dtype: float64"
      ]
     },
     "execution_count": 37,
     "metadata": {},
     "output_type": "execute_result"
    }
   ],
   "source": [
    "mobile[mobile['endurance']>0]['endurance'].describe()"
   ]
  },
  {
   "cell_type": "code",
   "execution_count": 38,
   "metadata": {},
   "outputs": [
    {
     "data": {
      "text/plain": [
       "count    3999.000000\n",
       "mean        7.400350\n",
       "std         1.451573\n",
       "min         1.000000\n",
       "25%         6.000000\n",
       "50%         8.000000\n",
       "75%         9.000000\n",
       "max        10.000000\n",
       "Name: appearance, dtype: float64"
      ]
     },
     "execution_count": 38,
     "metadata": {},
     "output_type": "execute_result"
    }
   ],
   "source": [
    "mobile[mobile['appearance']>0]['appearance'].describe()"
   ]
  },
  {
   "cell_type": "code",
   "execution_count": 39,
   "metadata": {},
   "outputs": [
    {
     "data": {
      "text/plain": [
       "count    3998.000000\n",
       "mean        7.105553\n",
       "std         1.708231\n",
       "min         1.000000\n",
       "25%         6.000000\n",
       "50%         7.000000\n",
       "75%         8.000000\n",
       "max        10.000000\n",
       "Name: camera_performance, dtype: float64"
      ]
     },
     "execution_count": 39,
     "metadata": {},
     "output_type": "execute_result"
    }
   ],
   "source": [
    "mobile[mobile['camera_performance']>0]['camera_performance'].describe()"
   ]
  },
  {
   "cell_type": "markdown",
   "metadata": {},
   "source": []
  },
  {
   "cell_type": "code",
   "execution_count": 40,
   "metadata": {},
   "outputs": [
    {
     "data": {
      "text/plain": [
       "0       2018年09月13日\n",
       "1        2020年2月18日\n",
       "2          2019年09月\n",
       "3             2010年\n",
       "4               NaN\n",
       "           ...     \n",
       "5576     2020年5月14日\n",
       "5577     2020年7月31日\n",
       "5578     2020年3月27日\n",
       "5579     2020年5月14日\n",
       "5580    2019年03月22日\n",
       "Name: market_time, Length: 5581, dtype: object"
      ]
     },
     "execution_count": 40,
     "metadata": {},
     "output_type": "execute_result"
    }
   ],
   "source": [
    "mobile['market_time']"
   ]
  },
  {
   "cell_type": "code",
   "execution_count": 41,
   "metadata": {},
   "outputs": [],
   "source": [
    "import re\n",
    "from datetime import datetime"
   ]
  },
  {
   "cell_type": "code",
   "execution_count": 42,
   "metadata": {},
   "outputs": [],
   "source": [
    "def get_days(text):\n",
    "    text = text.replace(\"年\", \"-\").replace(\"月\", \"-\").replace(\"日\", \" \").replace(\"/\", \"-\").strip()\n",
    "    text = re.sub(\"\\s+\", \" \", text)\n",
    "    t = \"\"\n",
    "    interval = 0\n",
    "    regex_dict = {\n",
    "        # \"2014年5月11日\"\n",
    "        \"(\\d{4}-\\d{1,2}-\\d{1,2})\":\"%Y-%m-%d\",\n",
    "        # \"2014年5月\"\n",
    "        \"(\\d{4}-\\d{1,2})\":\"%Y-%m\",\n",
    "        # 2014 年\n",
    "        \"(\\d{4})\":\"%Y\",\n",
    "            }\n",
    "    for regex in regex_dict.keys():\n",
    "        \n",
    "        t =  re.search(regex, text)\n",
    "        if t:\n",
    "            t = t.group(1)\n",
    "            dd = datetime.strptime(t, regex_dict[regex])\n",
    "            interval = (datetime.now()-dd).days\n",
    "#             print(interval)\n",
    "            return max(interval,1)\n",
    "    # else:\n",
    "    # print(\"没有获取到有效日期\")\n",
    "    return interval"
   ]
  },
  {
   "cell_type": "code",
   "execution_count": 43,
   "metadata": {},
   "outputs": [
    {
     "name": "stdout",
     "output_type": "stream",
     "text": [
      "810\n",
      "287\n",
      "457\n",
      "3987\n",
      "0\n"
     ]
    }
   ],
   "source": [
    "\n",
    "for item in mobile['market_time'][:5].to_list():\n",
    "    print(get_days(str(item)))"
   ]
  },
  {
   "cell_type": "code",
   "execution_count": 45,
   "metadata": {},
   "outputs": [
    {
     "data": {
      "text/plain": [
       "count    5220.000000\n",
       "mean     1049.662069\n",
       "std       883.137244\n",
       "min         1.000000\n",
       "25%       366.000000\n",
       "50%       884.000000\n",
       "75%      1447.000000\n",
       "max      7609.000000\n",
       "Name: days, dtype: float64"
      ]
     },
     "execution_count": 45,
     "metadata": {},
     "output_type": "execute_result"
    }
   ],
   "source": [
    "mobile['days']=mobile['market_time'].apply(lambda x : get_days(str(x)))\n",
    "mobile[mobile['days']>0]['days'].describe()"
   ]
  },
  {
   "cell_type": "markdown",
   "metadata": {},
   "source": []
  },
  {
   "cell_type": "code",
   "execution_count": 46,
   "metadata": {},
   "outputs": [
    {
     "data": {
      "text/plain": [
       "0                      NaN\n",
       "1                  4500mAh\n",
       "2             3969mAh大电池手机\n",
       "3                   800mAh\n",
       "4                  4500mAh\n",
       "               ...        \n",
       "5576               5000mAh\n",
       "5577               4729mAh\n",
       "5578               5000mAh\n",
       "5579               5000mAh\n",
       "5580    4000mAh（30分钟充电57%）\n",
       "Name: battery_capacity, Length: 5581, dtype: object"
      ]
     },
     "execution_count": 46,
     "metadata": {},
     "output_type": "execute_result"
    }
   ],
   "source": [
    "mobile['battery_capacity']"
   ]
  },
  {
   "cell_type": "code",
   "execution_count": 47,
   "metadata": {},
   "outputs": [],
   "source": [
    "def get_capacity(text):\n",
    "    regex = \"(\\d+)mAh\"\n",
    "    capacity=0\n",
    "    t = re.search(regex,text)\n",
    "#     print(t)\n",
    "    if t:\n",
    "        capacity = t.group(1)\n",
    "        return int(capacity)\n",
    "    return capacity"
   ]
  },
  {
   "cell_type": "code",
   "execution_count": 19,
   "metadata": {},
   "outputs": [
    {
     "data": {
      "text/plain": [
       "count     5181.000000\n",
       "mean      3603.055395\n",
       "std       1080.245915\n",
       "min        500.000000\n",
       "25%       3000.000000\n",
       "50%       3700.000000\n",
       "75%       4230.000000\n",
       "max      10000.000000\n",
       "Name: ba_cap, dtype: float64"
      ]
     },
     "execution_count": 19,
     "metadata": {},
     "output_type": "execute_result"
    }
   ],
   "source": [
    "mobile['ba_cap']= mobile['battery_capacity'].apply(lambda x :get_capacity(str(x)))\n",
    "mobile[mobile['ba_cap']>0]['ba_cap'].describe()"
   ]
  },
  {
   "cell_type": "code",
   "execution_count": 20,
   "metadata": {},
   "outputs": [
    {
     "data": {
      "text/plain": [
       "0        NaN\n",
       "1        8GB\n",
       "2        4GB\n",
       "3        NaN\n",
       "4        NaN\n",
       "        ... \n",
       "5576     8GB\n",
       "5577    12GB\n",
       "5578     8GB\n",
       "5579    12GB\n",
       "5580     8GB\n",
       "Name: ram_size, Length: 5581, dtype: object"
      ]
     },
     "execution_count": 20,
     "metadata": {},
     "output_type": "execute_result"
    }
   ],
   "source": [
    "mobile['ram_size']"
   ]
  },
  {
   "cell_type": "code",
   "execution_count": 21,
   "metadata": {},
   "outputs": [],
   "source": [
    "def get_rom(text):\n",
    "    regex = \"(\\d+)GB\"\n",
    "    capacity=0\n",
    "    t = re.search(regex,text)\n",
    "#     print(t)\n",
    "    if t:\n",
    "        capacity = t.group(1)\n",
    "        return int(capacity)\n",
    "    return capacity"
   ]
  },
  {
   "cell_type": "code",
   "execution_count": 22,
   "metadata": {},
   "outputs": [
    {
     "data": {
      "text/plain": [
       "count    4924.000000\n",
       "mean        5.005280\n",
       "std         2.575761\n",
       "min         1.000000\n",
       "25%         3.000000\n",
       "50%         4.000000\n",
       "75%         8.000000\n",
       "max        16.000000\n",
       "Name: ram, dtype: float64"
      ]
     },
     "execution_count": 22,
     "metadata": {},
     "output_type": "execute_result"
    }
   ],
   "source": [
    "mobile['ram']= mobile['ram_size'].apply(lambda x : get_rom(str(x)))\n",
    "mobile[mobile['ram']>0]['ram'].describe()"
   ]
  },
  {
   "cell_type": "code",
   "execution_count": 23,
   "metadata": {},
   "outputs": [
    {
     "data": {
      "text/plain": [
       "count    4918.000000\n",
       "mean       95.789142\n",
       "std        96.991333\n",
       "min         2.000000\n",
       "25%        32.000000\n",
       "50%        64.000000\n",
       "75%       128.000000\n",
       "max       512.000000\n",
       "Name: rom, dtype: float64"
      ]
     },
     "execution_count": 23,
     "metadata": {},
     "output_type": "execute_result"
    }
   ],
   "source": [
    "mobile['rom']= mobile['rom_size'].apply(lambda x : get_rom(str(x)))\n",
    "mobile[mobile['rom']>0]['rom'].describe()"
   ]
  },
  {
   "cell_type": "code",
   "execution_count": 24,
   "metadata": {},
   "outputs": [
    {
     "data": {
      "text/html": [
       "<div>\n",
       "<style scoped>\n",
       "    .dataframe tbody tr th:only-of-type {\n",
       "        vertical-align: middle;\n",
       "    }\n",
       "\n",
       "    .dataframe tbody tr th {\n",
       "        vertical-align: top;\n",
       "    }\n",
       "\n",
       "    .dataframe thead th {\n",
       "        text-align: right;\n",
       "    }\n",
       "</style>\n",
       "<table border=\"1\" class=\"dataframe\">\n",
       "  <thead>\n",
       "    <tr style=\"text-align: right;\">\n",
       "      <th></th>\n",
       "      <th>EventDate</th>\n",
       "      <th>alias_name</th>\n",
       "      <th>price</th>\n",
       "      <th>commented</th>\n",
       "      <th>market_time</th>\n",
       "      <th>screen_size</th>\n",
       "      <th>ram_size</th>\n",
       "      <th>rom_size</th>\n",
       "      <th>battery_capacity</th>\n",
       "      <th>cost_efficient</th>\n",
       "      <th>performance</th>\n",
       "      <th>endurance</th>\n",
       "      <th>appearance</th>\n",
       "      <th>camera_performance</th>\n",
       "      <th>days</th>\n",
       "      <th>ba_cap</th>\n",
       "      <th>ram</th>\n",
       "      <th>rom</th>\n",
       "    </tr>\n",
       "  </thead>\n",
       "  <tbody>\n",
       "    <tr>\n",
       "      <th>0</th>\n",
       "      <td>2020-11-27</td>\n",
       "      <td>iPhone X2 Plus</td>\n",
       "      <td>0</td>\n",
       "      <td>4</td>\n",
       "      <td>2018年09月13日</td>\n",
       "      <td>NaN</td>\n",
       "      <td>NaN</td>\n",
       "      <td>NaN</td>\n",
       "      <td>NaN</td>\n",
       "      <td>0</td>\n",
       "      <td>0</td>\n",
       "      <td>0</td>\n",
       "      <td>0</td>\n",
       "      <td>0</td>\n",
       "      <td>809</td>\n",
       "      <td>0</td>\n",
       "      <td>0</td>\n",
       "      <td>0</td>\n",
       "    </tr>\n",
       "    <tr>\n",
       "      <th>1</th>\n",
       "      <td>2020-11-28</td>\n",
       "      <td>10 Pro</td>\n",
       "      <td>4999</td>\n",
       "      <td>28</td>\n",
       "      <td>2020年2月18日</td>\n",
       "      <td>6.67</td>\n",
       "      <td>8GB</td>\n",
       "      <td>256GB</td>\n",
       "      <td>4500mAh</td>\n",
       "      <td>8</td>\n",
       "      <td>9</td>\n",
       "      <td>8</td>\n",
       "      <td>7</td>\n",
       "      <td>8</td>\n",
       "      <td>286</td>\n",
       "      <td>4500</td>\n",
       "      <td>8</td>\n",
       "      <td>256</td>\n",
       "    </tr>\n",
       "    <tr>\n",
       "      <th>2</th>\n",
       "      <td>2020-11-28</td>\n",
       "      <td>11 pro max</td>\n",
       "      <td>9599</td>\n",
       "      <td>52</td>\n",
       "      <td>2019年09月</td>\n",
       "      <td>6.50</td>\n",
       "      <td>4GB</td>\n",
       "      <td>64GB</td>\n",
       "      <td>3969mAh大电池手机</td>\n",
       "      <td>5</td>\n",
       "      <td>10</td>\n",
       "      <td>6</td>\n",
       "      <td>6</td>\n",
       "      <td>7</td>\n",
       "      <td>456</td>\n",
       "      <td>3969</td>\n",
       "      <td>4</td>\n",
       "      <td>64</td>\n",
       "    </tr>\n",
       "    <tr>\n",
       "      <th>3</th>\n",
       "      <td>2020-11-28</td>\n",
       "      <td>1107</td>\n",
       "      <td>380</td>\n",
       "      <td>1</td>\n",
       "      <td>2010年</td>\n",
       "      <td>1.52</td>\n",
       "      <td>NaN</td>\n",
       "      <td>NaN</td>\n",
       "      <td>800mAh</td>\n",
       "      <td>0</td>\n",
       "      <td>0</td>\n",
       "      <td>0</td>\n",
       "      <td>0</td>\n",
       "      <td>0</td>\n",
       "      <td>3986</td>\n",
       "      <td>800</td>\n",
       "      <td>0</td>\n",
       "      <td>0</td>\n",
       "    </tr>\n",
       "    <tr>\n",
       "      <th>4</th>\n",
       "      <td>2020-11-28</td>\n",
       "      <td>11Pro</td>\n",
       "      <td>0</td>\n",
       "      <td>0</td>\n",
       "      <td>NaN</td>\n",
       "      <td>6.67</td>\n",
       "      <td>NaN</td>\n",
       "      <td>NaN</td>\n",
       "      <td>4500mAh</td>\n",
       "      <td>0</td>\n",
       "      <td>0</td>\n",
       "      <td>0</td>\n",
       "      <td>0</td>\n",
       "      <td>0</td>\n",
       "      <td>0</td>\n",
       "      <td>4500</td>\n",
       "      <td>0</td>\n",
       "      <td>0</td>\n",
       "    </tr>\n",
       "  </tbody>\n",
       "</table>\n",
       "</div>"
      ],
      "text/plain": [
       "    EventDate       alias_name  price  commented  market_time  screen_size  \\\n",
       "0  2020-11-27   iPhone X2 Plus      0          4  2018年09月13日          NaN   \n",
       "1  2020-11-28           10 Pro   4999         28   2020年2月18日         6.67   \n",
       "2  2020-11-28       11 pro max   9599         52     2019年09月         6.50   \n",
       "3  2020-11-28             1107    380          1        2010年         1.52   \n",
       "4  2020-11-28            11Pro      0          0          NaN         6.67   \n",
       "\n",
       "  ram_size rom_size battery_capacity  cost_efficient  performance  endurance  \\\n",
       "0      NaN      NaN              NaN               0            0          0   \n",
       "1      8GB    256GB          4500mAh               8            9          8   \n",
       "2      4GB     64GB     3969mAh大电池手机               5           10          6   \n",
       "3      NaN      NaN           800mAh               0            0          0   \n",
       "4      NaN      NaN          4500mAh               0            0          0   \n",
       "\n",
       "   appearance  camera_performance  days  ba_cap  ram  rom  \n",
       "0           0                   0   809       0    0    0  \n",
       "1           7                   8   286    4500    8  256  \n",
       "2           6                   7   456    3969    4   64  \n",
       "3           0                   0  3986     800    0    0  \n",
       "4           0                   0     0    4500    0    0  "
      ]
     },
     "execution_count": 24,
     "metadata": {},
     "output_type": "execute_result"
    }
   ],
   "source": [
    "mobile.head()"
   ]
  },
  {
   "cell_type": "code",
   "execution_count": null,
   "metadata": {},
   "outputs": [],
   "source": []
  },
  {
   "cell_type": "code",
   "execution_count": 25,
   "metadata": {},
   "outputs": [
    {
     "data": {
      "text/plain": [
       "0          0\n",
       "1       4999\n",
       "2       9599\n",
       "3        380\n",
       "4          0\n",
       "        ... \n",
       "5576    5299\n",
       "5577    4599\n",
       "5578    5299\n",
       "5579    5099\n",
       "5580    2699\n",
       "Name: price, Length: 5581, dtype: int64"
      ]
     },
     "execution_count": 25,
     "metadata": {},
     "output_type": "execute_result"
    }
   ],
   "source": [
    "mobile['price']= mobile['price'].apply(lambda x :x if float(x)>0 else 0)\n",
    "mobile['price']"
   ]
  },
  {
   "cell_type": "code",
   "execution_count": 26,
   "metadata": {},
   "outputs": [
    {
     "data": {
      "text/plain": [
       "Index(['EventDate', 'alias_name', 'price', 'commented', 'market_time',\n",
       "       'screen_size', 'ram_size', 'rom_size', 'battery_capacity',\n",
       "       'cost_efficient', 'performance', 'endurance', 'appearance',\n",
       "       'camera_performance', 'days', 'ba_cap', 'ram', 'rom'],\n",
       "      dtype='object')"
      ]
     },
     "execution_count": 26,
     "metadata": {},
     "output_type": "execute_result"
    }
   ],
   "source": [
    "mobile.columns"
   ]
  },
  {
   "cell_type": "code",
   "execution_count": 27,
   "metadata": {},
   "outputs": [
    {
     "data": {
      "text/html": [
       "<div>\n",
       "<style scoped>\n",
       "    .dataframe tbody tr th:only-of-type {\n",
       "        vertical-align: middle;\n",
       "    }\n",
       "\n",
       "    .dataframe tbody tr th {\n",
       "        vertical-align: top;\n",
       "    }\n",
       "\n",
       "    .dataframe thead th {\n",
       "        text-align: right;\n",
       "    }\n",
       "</style>\n",
       "<table border=\"1\" class=\"dataframe\">\n",
       "  <thead>\n",
       "    <tr style=\"text-align: right;\">\n",
       "      <th></th>\n",
       "      <th>alias_name</th>\n",
       "      <th>price</th>\n",
       "      <th>commented</th>\n",
       "      <th>screen_size</th>\n",
       "      <th>cost_efficient</th>\n",
       "      <th>performance</th>\n",
       "      <th>endurance</th>\n",
       "      <th>appearance</th>\n",
       "      <th>camera_performance</th>\n",
       "      <th>days</th>\n",
       "      <th>ba_cap</th>\n",
       "      <th>ram</th>\n",
       "      <th>rom</th>\n",
       "    </tr>\n",
       "  </thead>\n",
       "  <tbody>\n",
       "    <tr>\n",
       "      <th>0</th>\n",
       "      <td>iPhone X2 Plus</td>\n",
       "      <td>0</td>\n",
       "      <td>4</td>\n",
       "      <td>NaN</td>\n",
       "      <td>0</td>\n",
       "      <td>0</td>\n",
       "      <td>0</td>\n",
       "      <td>0</td>\n",
       "      <td>0</td>\n",
       "      <td>809</td>\n",
       "      <td>0</td>\n",
       "      <td>0</td>\n",
       "      <td>0</td>\n",
       "    </tr>\n",
       "    <tr>\n",
       "      <th>1</th>\n",
       "      <td>10 Pro</td>\n",
       "      <td>4999</td>\n",
       "      <td>28</td>\n",
       "      <td>6.67</td>\n",
       "      <td>8</td>\n",
       "      <td>9</td>\n",
       "      <td>8</td>\n",
       "      <td>7</td>\n",
       "      <td>8</td>\n",
       "      <td>286</td>\n",
       "      <td>4500</td>\n",
       "      <td>8</td>\n",
       "      <td>256</td>\n",
       "    </tr>\n",
       "    <tr>\n",
       "      <th>2</th>\n",
       "      <td>11 pro max</td>\n",
       "      <td>9599</td>\n",
       "      <td>52</td>\n",
       "      <td>6.50</td>\n",
       "      <td>5</td>\n",
       "      <td>10</td>\n",
       "      <td>6</td>\n",
       "      <td>6</td>\n",
       "      <td>7</td>\n",
       "      <td>456</td>\n",
       "      <td>3969</td>\n",
       "      <td>4</td>\n",
       "      <td>64</td>\n",
       "    </tr>\n",
       "    <tr>\n",
       "      <th>3</th>\n",
       "      <td>1107</td>\n",
       "      <td>380</td>\n",
       "      <td>1</td>\n",
       "      <td>1.52</td>\n",
       "      <td>0</td>\n",
       "      <td>0</td>\n",
       "      <td>0</td>\n",
       "      <td>0</td>\n",
       "      <td>0</td>\n",
       "      <td>3986</td>\n",
       "      <td>800</td>\n",
       "      <td>0</td>\n",
       "      <td>0</td>\n",
       "    </tr>\n",
       "    <tr>\n",
       "      <th>4</th>\n",
       "      <td>11Pro</td>\n",
       "      <td>0</td>\n",
       "      <td>0</td>\n",
       "      <td>6.67</td>\n",
       "      <td>0</td>\n",
       "      <td>0</td>\n",
       "      <td>0</td>\n",
       "      <td>0</td>\n",
       "      <td>0</td>\n",
       "      <td>0</td>\n",
       "      <td>4500</td>\n",
       "      <td>0</td>\n",
       "      <td>0</td>\n",
       "    </tr>\n",
       "  </tbody>\n",
       "</table>\n",
       "</div>"
      ],
      "text/plain": [
       "        alias_name  price  commented  screen_size  cost_efficient  \\\n",
       "0   iPhone X2 Plus      0          4          NaN               0   \n",
       "1           10 Pro   4999         28         6.67               8   \n",
       "2       11 pro max   9599         52         6.50               5   \n",
       "3             1107    380          1         1.52               0   \n",
       "4            11Pro      0          0         6.67               0   \n",
       "\n",
       "   performance  endurance  appearance  camera_performance  days  ba_cap  ram  \\\n",
       "0            0          0           0                   0   809       0    0   \n",
       "1            9          8           7                   8   286    4500    8   \n",
       "2           10          6           6                   7   456    3969    4   \n",
       "3            0          0           0                   0  3986     800    0   \n",
       "4            0          0           0                   0     0    4500    0   \n",
       "\n",
       "   rom  \n",
       "0    0  \n",
       "1  256  \n",
       "2   64  \n",
       "3    0  \n",
       "4    0  "
      ]
     },
     "execution_count": 27,
     "metadata": {},
     "output_type": "execute_result"
    }
   ],
   "source": [
    "mobile_new = mobile[[ 'alias_name', 'price', 'commented', 'screen_size',\n",
    "       'cost_efficient', 'performance', 'endurance', 'appearance',\n",
    "       'camera_performance', 'days', 'ba_cap', 'ram', 'rom']]\n",
    "mobile_new.head()"
   ]
  },
  {
   "cell_type": "code",
   "execution_count": 28,
   "metadata": {},
   "outputs": [],
   "source": [
    "mobile_new.to_csv('./mobile_new.csv',index=False)"
   ]
  },
  {
   "cell_type": "code",
   "execution_count": null,
   "metadata": {},
   "outputs": [],
   "source": []
  }
 ],
 "metadata": {
  "kernelspec": {
   "display_name": "Python 3",
   "language": "python",
   "name": "python3"
  },
  "language_info": {
   "codemirror_mode": {
    "name": "ipython",
    "version": 3
   },
   "file_extension": ".py",
   "mimetype": "text/x-python",
   "name": "python",
   "nbconvert_exporter": "python",
   "pygments_lexer": "ipython3",
   "version": "3.7.9"
  }
 },
 "nbformat": 4,
 "nbformat_minor": 4
}
